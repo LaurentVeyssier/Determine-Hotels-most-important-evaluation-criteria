{
 "cells": [
  {
   "cell_type": "code",
   "execution_count": 32,
   "metadata": {},
   "outputs": [],
   "source": [
    "import pandas as pd\n",
    "import seaborn as sns\n",
    "import matplotlib.pyplot as plt\n",
    "import random\n",
    "import os\n",
    "import pickle\n",
    "pd.set_option('display.expand_frame_repr', False)"
   ]
  },
  {
   "cell_type": "markdown",
   "metadata": {},
   "source": [
    "# Load and explore the Dataset\n",
    "- The dataset has over 1.5 million hotel reviews with a rating scaled from 0 to 5"
   ]
  },
  {
   "cell_type": "code",
   "execution_count": 124,
   "metadata": {},
   "outputs": [
    {
     "name": "stdout",
     "output_type": "stream",
     "text": [
      "                                    Hotel Rating                                               Text\n",
      "0        Gateway_Motor_Inn_Boutique_Hotel    5.0  The motel is surrounded with beautiful white r...\n",
      "1        Gateway_Motor_Inn_Boutique_Hotel    5.0  Nice and quiet  No one in the reception when I...\n",
      "2        Gateway_Motor_Inn_Boutique_Hotel    3.0  Uninviting  Pulled into the carpark, it was co...\n",
      "3        Gateway_Motor_Inn_Boutique_Hotel    5.0  Fresh, clean surroundings and comfortable beds...\n",
      "4        Gateway_Motor_Inn_Boutique_Hotel    4.0  dark interior  reception was off putting becau...\n",
      "...                                   ...    ...                                                ...\n",
      "1534555        Hong Kong Disneyland Hotel    5.0  This is our first Disneyland Hotel stay and my...\n",
      "1534556        Hong Kong Disneyland Hotel    5.0  Stayed at Disneyland Hotel on the way back fro...\n",
      "1534557        Hong Kong Disneyland Hotel    5.0  Initially booked 2 rooms @ Hollywood hotel. Di...\n",
      "1534558        Hong Kong Disneyland Hotel    5.0  This is the best hotel in which my husband and...\n",
      "1534559        Hong Kong Disneyland Hotel    5.0  having just returned home after spending two n...\n",
      "\n",
      "[1534560 rows x 3 columns]\n"
     ]
    }
   ],
   "source": [
    "file = \"Hotels_by_Reviews.gz\"\n",
    "df = pd.read_csv(file, index_col=0, dtype='str')\n",
    "print(df)"
   ]
  },
  {
   "cell_type": "code",
   "execution_count": 125,
   "metadata": {},
   "outputs": [
    {
     "data": {
      "text/plain": [
       "{'0.0', '1.0', '2.0', '3.0', '4.0', '5.0'}"
      ]
     },
     "execution_count": 125,
     "metadata": {},
     "output_type": "execute_result"
    }
   ],
   "source": [
    "set(df.Rating)"
   ]
  },
  {
   "cell_type": "markdown",
   "metadata": {},
   "source": [
    "### What is the distribution of ratings ?"
   ]
  },
  {
   "cell_type": "code",
   "execution_count": 127,
   "metadata": {},
   "outputs": [],
   "source": [
    "ratings=[]\n",
    "for rating, df_rating in df.groupby('Rating'):\n",
    "    ratings.append([int(float(rating)), df_rating.Rating.count()])"
   ]
  },
  {
   "cell_type": "code",
   "execution_count": 203,
   "metadata": {},
   "outputs": [
    {
     "data": {
      "text/html": [
       "<div>\n",
       "<style scoped>\n",
       "    .dataframe tbody tr th:only-of-type {\n",
       "        vertical-align: middle;\n",
       "    }\n",
       "\n",
       "    .dataframe tbody tr th {\n",
       "        vertical-align: top;\n",
       "    }\n",
       "\n",
       "    .dataframe thead th {\n",
       "        text-align: right;\n",
       "    }\n",
       "</style>\n",
       "<table border=\"1\" class=\"dataframe\">\n",
       "  <thead>\n",
       "    <tr style=\"text-align: right;\">\n",
       "      <th></th>\n",
       "      <th>rating</th>\n",
       "      <th>num_reviews</th>\n",
       "    </tr>\n",
       "  </thead>\n",
       "  <tbody>\n",
       "    <tr>\n",
       "      <th>0</th>\n",
       "      <td>0</td>\n",
       "      <td>5</td>\n",
       "    </tr>\n",
       "    <tr>\n",
       "      <th>1</th>\n",
       "      <td>1</td>\n",
       "      <td>116021</td>\n",
       "    </tr>\n",
       "    <tr>\n",
       "      <th>2</th>\n",
       "      <td>2</td>\n",
       "      <td>128432</td>\n",
       "    </tr>\n",
       "    <tr>\n",
       "      <th>3</th>\n",
       "      <td>3</td>\n",
       "      <td>229764</td>\n",
       "    </tr>\n",
       "    <tr>\n",
       "      <th>4</th>\n",
       "      <td>4</td>\n",
       "      <td>479658</td>\n",
       "    </tr>\n",
       "    <tr>\n",
       "      <th>5</th>\n",
       "      <td>5</td>\n",
       "      <td>580680</td>\n",
       "    </tr>\n",
       "  </tbody>\n",
       "</table>\n",
       "</div>"
      ],
      "text/plain": [
       "   rating  num_reviews\n",
       "0       0            5\n",
       "1       1       116021\n",
       "2       2       128432\n",
       "3       3       229764\n",
       "4       4       479658\n",
       "5       5       580680"
      ]
     },
     "execution_count": 203,
     "metadata": {},
     "output_type": "execute_result"
    }
   ],
   "source": [
    "df_ratings = pd.DataFrame(ratings, columns=['rating','num_reviews'], dtype='int')\n",
    "df_ratings"
   ]
  },
  {
   "cell_type": "code",
   "execution_count": 204,
   "metadata": {},
   "outputs": [
    {
     "data": {
      "text/plain": [
       "rating         int32\n",
       "num_reviews    int32\n",
       "dtype: object"
      ]
     },
     "execution_count": 204,
     "metadata": {},
     "output_type": "execute_result"
    }
   ],
   "source": [
    "df_ratings.dtypes"
   ]
  },
  {
   "cell_type": "code",
   "execution_count": 205,
   "metadata": {},
   "outputs": [
    {
     "data": {
      "application/vnd.plotly.v1+json": {
       "config": {
        "plotlyServerURL": "https://plot.ly"
       },
       "data": [
        {
         "alignmentgroup": "True",
         "hovertemplate": "rating=%{x}<br>num_reviews=%{y}<extra></extra>",
         "legendgroup": "",
         "marker": {
          "color": "#636efa"
         },
         "name": "",
         "offsetgroup": "",
         "orientation": "v",
         "showlegend": false,
         "textposition": "auto",
         "type": "bar",
         "x": [
          0,
          1,
          2,
          3,
          4,
          5
         ],
         "xaxis": "x",
         "y": [
          5,
          116021,
          128432,
          229764,
          479658,
          580680
         ],
         "yaxis": "y"
        }
       ],
       "layout": {
        "barmode": "relative",
        "legend": {
         "tracegroupgap": 0
        },
        "margin": {
         "t": 60
        },
        "template": {
         "data": {
          "bar": [
           {
            "error_x": {
             "color": "#2a3f5f"
            },
            "error_y": {
             "color": "#2a3f5f"
            },
            "marker": {
             "line": {
              "color": "#E5ECF6",
              "width": 0.5
             }
            },
            "type": "bar"
           }
          ],
          "barpolar": [
           {
            "marker": {
             "line": {
              "color": "#E5ECF6",
              "width": 0.5
             }
            },
            "type": "barpolar"
           }
          ],
          "carpet": [
           {
            "aaxis": {
             "endlinecolor": "#2a3f5f",
             "gridcolor": "white",
             "linecolor": "white",
             "minorgridcolor": "white",
             "startlinecolor": "#2a3f5f"
            },
            "baxis": {
             "endlinecolor": "#2a3f5f",
             "gridcolor": "white",
             "linecolor": "white",
             "minorgridcolor": "white",
             "startlinecolor": "#2a3f5f"
            },
            "type": "carpet"
           }
          ],
          "choropleth": [
           {
            "colorbar": {
             "outlinewidth": 0,
             "ticks": ""
            },
            "type": "choropleth"
           }
          ],
          "contour": [
           {
            "colorbar": {
             "outlinewidth": 0,
             "ticks": ""
            },
            "colorscale": [
             [
              0,
              "#0d0887"
             ],
             [
              0.1111111111111111,
              "#46039f"
             ],
             [
              0.2222222222222222,
              "#7201a8"
             ],
             [
              0.3333333333333333,
              "#9c179e"
             ],
             [
              0.4444444444444444,
              "#bd3786"
             ],
             [
              0.5555555555555556,
              "#d8576b"
             ],
             [
              0.6666666666666666,
              "#ed7953"
             ],
             [
              0.7777777777777778,
              "#fb9f3a"
             ],
             [
              0.8888888888888888,
              "#fdca26"
             ],
             [
              1,
              "#f0f921"
             ]
            ],
            "type": "contour"
           }
          ],
          "contourcarpet": [
           {
            "colorbar": {
             "outlinewidth": 0,
             "ticks": ""
            },
            "type": "contourcarpet"
           }
          ],
          "heatmap": [
           {
            "colorbar": {
             "outlinewidth": 0,
             "ticks": ""
            },
            "colorscale": [
             [
              0,
              "#0d0887"
             ],
             [
              0.1111111111111111,
              "#46039f"
             ],
             [
              0.2222222222222222,
              "#7201a8"
             ],
             [
              0.3333333333333333,
              "#9c179e"
             ],
             [
              0.4444444444444444,
              "#bd3786"
             ],
             [
              0.5555555555555556,
              "#d8576b"
             ],
             [
              0.6666666666666666,
              "#ed7953"
             ],
             [
              0.7777777777777778,
              "#fb9f3a"
             ],
             [
              0.8888888888888888,
              "#fdca26"
             ],
             [
              1,
              "#f0f921"
             ]
            ],
            "type": "heatmap"
           }
          ],
          "heatmapgl": [
           {
            "colorbar": {
             "outlinewidth": 0,
             "ticks": ""
            },
            "colorscale": [
             [
              0,
              "#0d0887"
             ],
             [
              0.1111111111111111,
              "#46039f"
             ],
             [
              0.2222222222222222,
              "#7201a8"
             ],
             [
              0.3333333333333333,
              "#9c179e"
             ],
             [
              0.4444444444444444,
              "#bd3786"
             ],
             [
              0.5555555555555556,
              "#d8576b"
             ],
             [
              0.6666666666666666,
              "#ed7953"
             ],
             [
              0.7777777777777778,
              "#fb9f3a"
             ],
             [
              0.8888888888888888,
              "#fdca26"
             ],
             [
              1,
              "#f0f921"
             ]
            ],
            "type": "heatmapgl"
           }
          ],
          "histogram": [
           {
            "marker": {
             "colorbar": {
              "outlinewidth": 0,
              "ticks": ""
             }
            },
            "type": "histogram"
           }
          ],
          "histogram2d": [
           {
            "colorbar": {
             "outlinewidth": 0,
             "ticks": ""
            },
            "colorscale": [
             [
              0,
              "#0d0887"
             ],
             [
              0.1111111111111111,
              "#46039f"
             ],
             [
              0.2222222222222222,
              "#7201a8"
             ],
             [
              0.3333333333333333,
              "#9c179e"
             ],
             [
              0.4444444444444444,
              "#bd3786"
             ],
             [
              0.5555555555555556,
              "#d8576b"
             ],
             [
              0.6666666666666666,
              "#ed7953"
             ],
             [
              0.7777777777777778,
              "#fb9f3a"
             ],
             [
              0.8888888888888888,
              "#fdca26"
             ],
             [
              1,
              "#f0f921"
             ]
            ],
            "type": "histogram2d"
           }
          ],
          "histogram2dcontour": [
           {
            "colorbar": {
             "outlinewidth": 0,
             "ticks": ""
            },
            "colorscale": [
             [
              0,
              "#0d0887"
             ],
             [
              0.1111111111111111,
              "#46039f"
             ],
             [
              0.2222222222222222,
              "#7201a8"
             ],
             [
              0.3333333333333333,
              "#9c179e"
             ],
             [
              0.4444444444444444,
              "#bd3786"
             ],
             [
              0.5555555555555556,
              "#d8576b"
             ],
             [
              0.6666666666666666,
              "#ed7953"
             ],
             [
              0.7777777777777778,
              "#fb9f3a"
             ],
             [
              0.8888888888888888,
              "#fdca26"
             ],
             [
              1,
              "#f0f921"
             ]
            ],
            "type": "histogram2dcontour"
           }
          ],
          "mesh3d": [
           {
            "colorbar": {
             "outlinewidth": 0,
             "ticks": ""
            },
            "type": "mesh3d"
           }
          ],
          "parcoords": [
           {
            "line": {
             "colorbar": {
              "outlinewidth": 0,
              "ticks": ""
             }
            },
            "type": "parcoords"
           }
          ],
          "pie": [
           {
            "automargin": true,
            "type": "pie"
           }
          ],
          "scatter": [
           {
            "marker": {
             "colorbar": {
              "outlinewidth": 0,
              "ticks": ""
             }
            },
            "type": "scatter"
           }
          ],
          "scatter3d": [
           {
            "line": {
             "colorbar": {
              "outlinewidth": 0,
              "ticks": ""
             }
            },
            "marker": {
             "colorbar": {
              "outlinewidth": 0,
              "ticks": ""
             }
            },
            "type": "scatter3d"
           }
          ],
          "scattercarpet": [
           {
            "marker": {
             "colorbar": {
              "outlinewidth": 0,
              "ticks": ""
             }
            },
            "type": "scattercarpet"
           }
          ],
          "scattergeo": [
           {
            "marker": {
             "colorbar": {
              "outlinewidth": 0,
              "ticks": ""
             }
            },
            "type": "scattergeo"
           }
          ],
          "scattergl": [
           {
            "marker": {
             "colorbar": {
              "outlinewidth": 0,
              "ticks": ""
             }
            },
            "type": "scattergl"
           }
          ],
          "scattermapbox": [
           {
            "marker": {
             "colorbar": {
              "outlinewidth": 0,
              "ticks": ""
             }
            },
            "type": "scattermapbox"
           }
          ],
          "scatterpolar": [
           {
            "marker": {
             "colorbar": {
              "outlinewidth": 0,
              "ticks": ""
             }
            },
            "type": "scatterpolar"
           }
          ],
          "scatterpolargl": [
           {
            "marker": {
             "colorbar": {
              "outlinewidth": 0,
              "ticks": ""
             }
            },
            "type": "scatterpolargl"
           }
          ],
          "scatterternary": [
           {
            "marker": {
             "colorbar": {
              "outlinewidth": 0,
              "ticks": ""
             }
            },
            "type": "scatterternary"
           }
          ],
          "surface": [
           {
            "colorbar": {
             "outlinewidth": 0,
             "ticks": ""
            },
            "colorscale": [
             [
              0,
              "#0d0887"
             ],
             [
              0.1111111111111111,
              "#46039f"
             ],
             [
              0.2222222222222222,
              "#7201a8"
             ],
             [
              0.3333333333333333,
              "#9c179e"
             ],
             [
              0.4444444444444444,
              "#bd3786"
             ],
             [
              0.5555555555555556,
              "#d8576b"
             ],
             [
              0.6666666666666666,
              "#ed7953"
             ],
             [
              0.7777777777777778,
              "#fb9f3a"
             ],
             [
              0.8888888888888888,
              "#fdca26"
             ],
             [
              1,
              "#f0f921"
             ]
            ],
            "type": "surface"
           }
          ],
          "table": [
           {
            "cells": {
             "fill": {
              "color": "#EBF0F8"
             },
             "line": {
              "color": "white"
             }
            },
            "header": {
             "fill": {
              "color": "#C8D4E3"
             },
             "line": {
              "color": "white"
             }
            },
            "type": "table"
           }
          ]
         },
         "layout": {
          "annotationdefaults": {
           "arrowcolor": "#2a3f5f",
           "arrowhead": 0,
           "arrowwidth": 1
          },
          "coloraxis": {
           "colorbar": {
            "outlinewidth": 0,
            "ticks": ""
           }
          },
          "colorscale": {
           "diverging": [
            [
             0,
             "#8e0152"
            ],
            [
             0.1,
             "#c51b7d"
            ],
            [
             0.2,
             "#de77ae"
            ],
            [
             0.3,
             "#f1b6da"
            ],
            [
             0.4,
             "#fde0ef"
            ],
            [
             0.5,
             "#f7f7f7"
            ],
            [
             0.6,
             "#e6f5d0"
            ],
            [
             0.7,
             "#b8e186"
            ],
            [
             0.8,
             "#7fbc41"
            ],
            [
             0.9,
             "#4d9221"
            ],
            [
             1,
             "#276419"
            ]
           ],
           "sequential": [
            [
             0,
             "#0d0887"
            ],
            [
             0.1111111111111111,
             "#46039f"
            ],
            [
             0.2222222222222222,
             "#7201a8"
            ],
            [
             0.3333333333333333,
             "#9c179e"
            ],
            [
             0.4444444444444444,
             "#bd3786"
            ],
            [
             0.5555555555555556,
             "#d8576b"
            ],
            [
             0.6666666666666666,
             "#ed7953"
            ],
            [
             0.7777777777777778,
             "#fb9f3a"
            ],
            [
             0.8888888888888888,
             "#fdca26"
            ],
            [
             1,
             "#f0f921"
            ]
           ],
           "sequentialminus": [
            [
             0,
             "#0d0887"
            ],
            [
             0.1111111111111111,
             "#46039f"
            ],
            [
             0.2222222222222222,
             "#7201a8"
            ],
            [
             0.3333333333333333,
             "#9c179e"
            ],
            [
             0.4444444444444444,
             "#bd3786"
            ],
            [
             0.5555555555555556,
             "#d8576b"
            ],
            [
             0.6666666666666666,
             "#ed7953"
            ],
            [
             0.7777777777777778,
             "#fb9f3a"
            ],
            [
             0.8888888888888888,
             "#fdca26"
            ],
            [
             1,
             "#f0f921"
            ]
           ]
          },
          "colorway": [
           "#636efa",
           "#EF553B",
           "#00cc96",
           "#ab63fa",
           "#FFA15A",
           "#19d3f3",
           "#FF6692",
           "#B6E880",
           "#FF97FF",
           "#FECB52"
          ],
          "font": {
           "color": "#2a3f5f"
          },
          "geo": {
           "bgcolor": "white",
           "lakecolor": "white",
           "landcolor": "#E5ECF6",
           "showlakes": true,
           "showland": true,
           "subunitcolor": "white"
          },
          "hoverlabel": {
           "align": "left"
          },
          "hovermode": "closest",
          "mapbox": {
           "style": "light"
          },
          "paper_bgcolor": "white",
          "plot_bgcolor": "#E5ECF6",
          "polar": {
           "angularaxis": {
            "gridcolor": "white",
            "linecolor": "white",
            "ticks": ""
           },
           "bgcolor": "#E5ECF6",
           "radialaxis": {
            "gridcolor": "white",
            "linecolor": "white",
            "ticks": ""
           }
          },
          "scene": {
           "xaxis": {
            "backgroundcolor": "#E5ECF6",
            "gridcolor": "white",
            "gridwidth": 2,
            "linecolor": "white",
            "showbackground": true,
            "ticks": "",
            "zerolinecolor": "white"
           },
           "yaxis": {
            "backgroundcolor": "#E5ECF6",
            "gridcolor": "white",
            "gridwidth": 2,
            "linecolor": "white",
            "showbackground": true,
            "ticks": "",
            "zerolinecolor": "white"
           },
           "zaxis": {
            "backgroundcolor": "#E5ECF6",
            "gridcolor": "white",
            "gridwidth": 2,
            "linecolor": "white",
            "showbackground": true,
            "ticks": "",
            "zerolinecolor": "white"
           }
          },
          "shapedefaults": {
           "line": {
            "color": "#2a3f5f"
           }
          },
          "ternary": {
           "aaxis": {
            "gridcolor": "white",
            "linecolor": "white",
            "ticks": ""
           },
           "baxis": {
            "gridcolor": "white",
            "linecolor": "white",
            "ticks": ""
           },
           "bgcolor": "#E5ECF6",
           "caxis": {
            "gridcolor": "white",
            "linecolor": "white",
            "ticks": ""
           }
          },
          "title": {
           "x": 0.05
          },
          "xaxis": {
           "automargin": true,
           "gridcolor": "white",
           "linecolor": "white",
           "ticks": "",
           "title": {
            "standoff": 15
           },
           "zerolinecolor": "white",
           "zerolinewidth": 2
          },
          "yaxis": {
           "automargin": true,
           "gridcolor": "white",
           "linecolor": "white",
           "ticks": "",
           "title": {
            "standoff": 15
           },
           "zerolinecolor": "white",
           "zerolinewidth": 2
          }
         }
        },
        "xaxis": {
         "anchor": "y",
         "domain": [
          0,
          1
         ],
         "title": {
          "text": "rating"
         }
        },
        "yaxis": {
         "anchor": "x",
         "domain": [
          0,
          1
         ],
         "title": {
          "text": "num_reviews"
         }
        }
       }
      },
      "text/html": [
       "<div>                            <div id=\"3a1008b9-2eb7-4eec-97ba-1a3e1a59eeeb\" class=\"plotly-graph-div\" style=\"height:525px; width:100%;\"></div>            <script type=\"text/javascript\">                require([\"plotly\"], function(Plotly) {                    window.PLOTLYENV=window.PLOTLYENV || {};                                    if (document.getElementById(\"3a1008b9-2eb7-4eec-97ba-1a3e1a59eeeb\")) {                    Plotly.newPlot(                        \"3a1008b9-2eb7-4eec-97ba-1a3e1a59eeeb\",                        [{\"alignmentgroup\": \"True\", \"hovertemplate\": \"rating=%{x}<br>num_reviews=%{y}<extra></extra>\", \"legendgroup\": \"\", \"marker\": {\"color\": \"#636efa\"}, \"name\": \"\", \"offsetgroup\": \"\", \"orientation\": \"v\", \"showlegend\": false, \"textposition\": \"auto\", \"type\": \"bar\", \"x\": [0, 1, 2, 3, 4, 5], \"xaxis\": \"x\", \"y\": [5, 116021, 128432, 229764, 479658, 580680], \"yaxis\": \"y\"}],                        {\"barmode\": \"relative\", \"legend\": {\"tracegroupgap\": 0}, \"margin\": {\"t\": 60}, \"template\": {\"data\": {\"bar\": [{\"error_x\": {\"color\": \"#2a3f5f\"}, \"error_y\": {\"color\": \"#2a3f5f\"}, \"marker\": {\"line\": {\"color\": \"#E5ECF6\", \"width\": 0.5}}, \"type\": \"bar\"}], \"barpolar\": [{\"marker\": {\"line\": {\"color\": \"#E5ECF6\", \"width\": 0.5}}, \"type\": \"barpolar\"}], \"carpet\": [{\"aaxis\": {\"endlinecolor\": \"#2a3f5f\", \"gridcolor\": \"white\", \"linecolor\": \"white\", \"minorgridcolor\": \"white\", \"startlinecolor\": \"#2a3f5f\"}, \"baxis\": {\"endlinecolor\": \"#2a3f5f\", \"gridcolor\": \"white\", \"linecolor\": \"white\", \"minorgridcolor\": \"white\", \"startlinecolor\": \"#2a3f5f\"}, \"type\": \"carpet\"}], \"choropleth\": [{\"colorbar\": {\"outlinewidth\": 0, \"ticks\": \"\"}, \"type\": \"choropleth\"}], \"contour\": [{\"colorbar\": {\"outlinewidth\": 0, \"ticks\": \"\"}, \"colorscale\": [[0.0, \"#0d0887\"], [0.1111111111111111, \"#46039f\"], [0.2222222222222222, \"#7201a8\"], [0.3333333333333333, \"#9c179e\"], [0.4444444444444444, \"#bd3786\"], [0.5555555555555556, \"#d8576b\"], [0.6666666666666666, \"#ed7953\"], [0.7777777777777778, \"#fb9f3a\"], [0.8888888888888888, \"#fdca26\"], [1.0, \"#f0f921\"]], \"type\": \"contour\"}], \"contourcarpet\": [{\"colorbar\": {\"outlinewidth\": 0, \"ticks\": \"\"}, \"type\": \"contourcarpet\"}], \"heatmap\": [{\"colorbar\": {\"outlinewidth\": 0, \"ticks\": \"\"}, \"colorscale\": [[0.0, \"#0d0887\"], [0.1111111111111111, \"#46039f\"], [0.2222222222222222, \"#7201a8\"], [0.3333333333333333, \"#9c179e\"], [0.4444444444444444, \"#bd3786\"], [0.5555555555555556, \"#d8576b\"], [0.6666666666666666, \"#ed7953\"], [0.7777777777777778, \"#fb9f3a\"], [0.8888888888888888, \"#fdca26\"], [1.0, \"#f0f921\"]], \"type\": \"heatmap\"}], \"heatmapgl\": [{\"colorbar\": {\"outlinewidth\": 0, \"ticks\": \"\"}, \"colorscale\": [[0.0, \"#0d0887\"], [0.1111111111111111, \"#46039f\"], [0.2222222222222222, \"#7201a8\"], [0.3333333333333333, \"#9c179e\"], [0.4444444444444444, \"#bd3786\"], [0.5555555555555556, \"#d8576b\"], [0.6666666666666666, \"#ed7953\"], [0.7777777777777778, \"#fb9f3a\"], [0.8888888888888888, \"#fdca26\"], [1.0, \"#f0f921\"]], \"type\": \"heatmapgl\"}], \"histogram\": [{\"marker\": {\"colorbar\": {\"outlinewidth\": 0, \"ticks\": \"\"}}, \"type\": \"histogram\"}], \"histogram2d\": [{\"colorbar\": {\"outlinewidth\": 0, \"ticks\": \"\"}, \"colorscale\": [[0.0, \"#0d0887\"], [0.1111111111111111, \"#46039f\"], [0.2222222222222222, \"#7201a8\"], [0.3333333333333333, \"#9c179e\"], [0.4444444444444444, \"#bd3786\"], [0.5555555555555556, \"#d8576b\"], [0.6666666666666666, \"#ed7953\"], [0.7777777777777778, \"#fb9f3a\"], [0.8888888888888888, \"#fdca26\"], [1.0, \"#f0f921\"]], \"type\": \"histogram2d\"}], \"histogram2dcontour\": [{\"colorbar\": {\"outlinewidth\": 0, \"ticks\": \"\"}, \"colorscale\": [[0.0, \"#0d0887\"], [0.1111111111111111, \"#46039f\"], [0.2222222222222222, \"#7201a8\"], [0.3333333333333333, \"#9c179e\"], [0.4444444444444444, \"#bd3786\"], [0.5555555555555556, \"#d8576b\"], [0.6666666666666666, \"#ed7953\"], [0.7777777777777778, \"#fb9f3a\"], [0.8888888888888888, \"#fdca26\"], [1.0, \"#f0f921\"]], \"type\": \"histogram2dcontour\"}], \"mesh3d\": [{\"colorbar\": {\"outlinewidth\": 0, \"ticks\": \"\"}, \"type\": \"mesh3d\"}], \"parcoords\": [{\"line\": {\"colorbar\": {\"outlinewidth\": 0, \"ticks\": \"\"}}, \"type\": \"parcoords\"}], \"pie\": [{\"automargin\": true, \"type\": \"pie\"}], \"scatter\": [{\"marker\": {\"colorbar\": {\"outlinewidth\": 0, \"ticks\": \"\"}}, \"type\": \"scatter\"}], \"scatter3d\": [{\"line\": {\"colorbar\": {\"outlinewidth\": 0, \"ticks\": \"\"}}, \"marker\": {\"colorbar\": {\"outlinewidth\": 0, \"ticks\": \"\"}}, \"type\": \"scatter3d\"}], \"scattercarpet\": [{\"marker\": {\"colorbar\": {\"outlinewidth\": 0, \"ticks\": \"\"}}, \"type\": \"scattercarpet\"}], \"scattergeo\": [{\"marker\": {\"colorbar\": {\"outlinewidth\": 0, \"ticks\": \"\"}}, \"type\": \"scattergeo\"}], \"scattergl\": [{\"marker\": {\"colorbar\": {\"outlinewidth\": 0, \"ticks\": \"\"}}, \"type\": \"scattergl\"}], \"scattermapbox\": [{\"marker\": {\"colorbar\": {\"outlinewidth\": 0, \"ticks\": \"\"}}, \"type\": \"scattermapbox\"}], \"scatterpolar\": [{\"marker\": {\"colorbar\": {\"outlinewidth\": 0, \"ticks\": \"\"}}, \"type\": \"scatterpolar\"}], \"scatterpolargl\": [{\"marker\": {\"colorbar\": {\"outlinewidth\": 0, \"ticks\": \"\"}}, \"type\": \"scatterpolargl\"}], \"scatterternary\": [{\"marker\": {\"colorbar\": {\"outlinewidth\": 0, \"ticks\": \"\"}}, \"type\": \"scatterternary\"}], \"surface\": [{\"colorbar\": {\"outlinewidth\": 0, \"ticks\": \"\"}, \"colorscale\": [[0.0, \"#0d0887\"], [0.1111111111111111, \"#46039f\"], [0.2222222222222222, \"#7201a8\"], [0.3333333333333333, \"#9c179e\"], [0.4444444444444444, \"#bd3786\"], [0.5555555555555556, \"#d8576b\"], [0.6666666666666666, \"#ed7953\"], [0.7777777777777778, \"#fb9f3a\"], [0.8888888888888888, \"#fdca26\"], [1.0, \"#f0f921\"]], \"type\": \"surface\"}], \"table\": [{\"cells\": {\"fill\": {\"color\": \"#EBF0F8\"}, \"line\": {\"color\": \"white\"}}, \"header\": {\"fill\": {\"color\": \"#C8D4E3\"}, \"line\": {\"color\": \"white\"}}, \"type\": \"table\"}]}, \"layout\": {\"annotationdefaults\": {\"arrowcolor\": \"#2a3f5f\", \"arrowhead\": 0, \"arrowwidth\": 1}, \"coloraxis\": {\"colorbar\": {\"outlinewidth\": 0, \"ticks\": \"\"}}, \"colorscale\": {\"diverging\": [[0, \"#8e0152\"], [0.1, \"#c51b7d\"], [0.2, \"#de77ae\"], [0.3, \"#f1b6da\"], [0.4, \"#fde0ef\"], [0.5, \"#f7f7f7\"], [0.6, \"#e6f5d0\"], [0.7, \"#b8e186\"], [0.8, \"#7fbc41\"], [0.9, \"#4d9221\"], [1, \"#276419\"]], \"sequential\": [[0.0, \"#0d0887\"], [0.1111111111111111, \"#46039f\"], [0.2222222222222222, \"#7201a8\"], [0.3333333333333333, \"#9c179e\"], [0.4444444444444444, \"#bd3786\"], [0.5555555555555556, \"#d8576b\"], [0.6666666666666666, \"#ed7953\"], [0.7777777777777778, \"#fb9f3a\"], [0.8888888888888888, \"#fdca26\"], [1.0, \"#f0f921\"]], \"sequentialminus\": [[0.0, \"#0d0887\"], [0.1111111111111111, \"#46039f\"], [0.2222222222222222, \"#7201a8\"], [0.3333333333333333, \"#9c179e\"], [0.4444444444444444, \"#bd3786\"], [0.5555555555555556, \"#d8576b\"], [0.6666666666666666, \"#ed7953\"], [0.7777777777777778, \"#fb9f3a\"], [0.8888888888888888, \"#fdca26\"], [1.0, \"#f0f921\"]]}, \"colorway\": [\"#636efa\", \"#EF553B\", \"#00cc96\", \"#ab63fa\", \"#FFA15A\", \"#19d3f3\", \"#FF6692\", \"#B6E880\", \"#FF97FF\", \"#FECB52\"], \"font\": {\"color\": \"#2a3f5f\"}, \"geo\": {\"bgcolor\": \"white\", \"lakecolor\": \"white\", \"landcolor\": \"#E5ECF6\", \"showlakes\": true, \"showland\": true, \"subunitcolor\": \"white\"}, \"hoverlabel\": {\"align\": \"left\"}, \"hovermode\": \"closest\", \"mapbox\": {\"style\": \"light\"}, \"paper_bgcolor\": \"white\", \"plot_bgcolor\": \"#E5ECF6\", \"polar\": {\"angularaxis\": {\"gridcolor\": \"white\", \"linecolor\": \"white\", \"ticks\": \"\"}, \"bgcolor\": \"#E5ECF6\", \"radialaxis\": {\"gridcolor\": \"white\", \"linecolor\": \"white\", \"ticks\": \"\"}}, \"scene\": {\"xaxis\": {\"backgroundcolor\": \"#E5ECF6\", \"gridcolor\": \"white\", \"gridwidth\": 2, \"linecolor\": \"white\", \"showbackground\": true, \"ticks\": \"\", \"zerolinecolor\": \"white\"}, \"yaxis\": {\"backgroundcolor\": \"#E5ECF6\", \"gridcolor\": \"white\", \"gridwidth\": 2, \"linecolor\": \"white\", \"showbackground\": true, \"ticks\": \"\", \"zerolinecolor\": \"white\"}, \"zaxis\": {\"backgroundcolor\": \"#E5ECF6\", \"gridcolor\": \"white\", \"gridwidth\": 2, \"linecolor\": \"white\", \"showbackground\": true, \"ticks\": \"\", \"zerolinecolor\": \"white\"}}, \"shapedefaults\": {\"line\": {\"color\": \"#2a3f5f\"}}, \"ternary\": {\"aaxis\": {\"gridcolor\": \"white\", \"linecolor\": \"white\", \"ticks\": \"\"}, \"baxis\": {\"gridcolor\": \"white\", \"linecolor\": \"white\", \"ticks\": \"\"}, \"bgcolor\": \"#E5ECF6\", \"caxis\": {\"gridcolor\": \"white\", \"linecolor\": \"white\", \"ticks\": \"\"}}, \"title\": {\"x\": 0.05}, \"xaxis\": {\"automargin\": true, \"gridcolor\": \"white\", \"linecolor\": \"white\", \"ticks\": \"\", \"title\": {\"standoff\": 15}, \"zerolinecolor\": \"white\", \"zerolinewidth\": 2}, \"yaxis\": {\"automargin\": true, \"gridcolor\": \"white\", \"linecolor\": \"white\", \"ticks\": \"\", \"title\": {\"standoff\": 15}, \"zerolinecolor\": \"white\", \"zerolinewidth\": 2}}}, \"xaxis\": {\"anchor\": \"y\", \"domain\": [0.0, 1.0], \"title\": {\"text\": \"rating\"}}, \"yaxis\": {\"anchor\": \"x\", \"domain\": [0.0, 1.0], \"title\": {\"text\": \"num_reviews\"}}},                        {\"responsive\": true}                    ).then(function(){\n",
       "                            \n",
       "var gd = document.getElementById('3a1008b9-2eb7-4eec-97ba-1a3e1a59eeeb');\n",
       "var x = new MutationObserver(function (mutations, observer) {{\n",
       "        var display = window.getComputedStyle(gd).display;\n",
       "        if (!display || display === 'none') {{\n",
       "            console.log([gd, 'removed!']);\n",
       "            Plotly.purge(gd);\n",
       "            observer.disconnect();\n",
       "        }}\n",
       "}});\n",
       "\n",
       "// Listen for the removal of the full notebook cells\n",
       "var notebookContainer = gd.closest('#notebook-container');\n",
       "if (notebookContainer) {{\n",
       "    x.observe(notebookContainer, {childList: true});\n",
       "}}\n",
       "\n",
       "// Listen for the clearing of the current output cell\n",
       "var outputEl = gd.closest('.output');\n",
       "if (outputEl) {{\n",
       "    x.observe(outputEl, {childList: true});\n",
       "}}\n",
       "\n",
       "                        })                };                });            </script>        </div>"
      ]
     },
     "metadata": {},
     "output_type": "display_data"
    }
   ],
   "source": [
    "import plotly.express as px\n",
    "fig = px.bar(df_ratings, x='rating', y='num_reviews')\n",
    "fig.show()"
   ]
  },
  {
   "cell_type": "markdown",
   "metadata": {},
   "source": [
    "- Rating 5 is the most common\n",
    "- Fewer ratings below 3"
   ]
  },
  {
   "cell_type": "markdown",
   "metadata": {},
   "source": [
    "# Topic modeling using Latent Dirichlet Allocation"
   ]
  },
  {
   "cell_type": "code",
   "execution_count": 37,
   "metadata": {},
   "outputs": [],
   "source": [
    "from gensim.parsing import preprocessing\n",
    "from gensim.corpora import Dictionary\n",
    "from gensim.models.phrases import Phrases, Phraser\n",
    "from gensim.models import Word2Vec\n",
    "from gensim.models.ldamodel import LdaModel\n",
    "import spacy\n",
    "import re\n",
    "import toolz as ct"
   ]
  },
  {
   "cell_type": "code",
   "execution_count": 38,
   "metadata": {},
   "outputs": [
    {
     "name": "stdout",
     "output_type": "stream",
     "text": [
      "322\n"
     ]
    }
   ],
   "source": [
    "function_words_single = [\"the\", \"of\", \"and\", \"to\", \"a\", \"in\", \"i\", \"he\", \"that\", \"was\", \"it\", \"his\", \"you\", \"with\", \"as\", \"for\", \"had\", \"is\", \"her\", \"not\", \"but\", \"at\", \"on\", \"she\", \"be\", \"have\", \"by\", \"which\", \"him\", \"they\", \"this\", \"from\", \"all\", \"were\", \"my\", \"we\", \"one\", \"so\", \"said\", \"me\", \"there\", \"or\", \"an\", \"are\", \"no\", \"would\", \"their\", \"if\", \"been\", \"when\", \"do\", \"who\", \"what\", \"them\", \"will\", \"out\", \"up\", \"then\", \"more\", \"could\", \"into\", \"man\", \"now\", \"some\", \"your\", \"very\", \"did\", \"has\", \"about\", \"time\", \"can\", \"little\", \"than\", \"only\", \"upon\", \"its\", \"any\", \"other\", \"see\", \"our\", \"before\", \"two\", \"know\", \"over\", \"after\", \"down\", \"made\", \"should\", \"these\", \"must\", \"such\", \"much\", \"us\", \"old\", \"how\", \"come\", \"here\", \"never\", \"may\", \"first\", \"where\", \"go\", \"s\", \"came\", \"men\", \"way\", \"back\", \"himself\", \"own\", \"again\", \"say\", \"day\", \"long\", \"even\", \"too\", \"think\", \"might\", \"most\", \"through\", \"those\", \"am\", \"just\", \"make\", \"while\", \"went\", \"away\", \"still\", \"every\", \"without\", \"many\", \"being\", \"take\", \"last\", \"shall\", \"yet\", \"though\", \"nothing\", \"get\", \"once\", \"under\", \"same\", \"off\", \"another\", \"let\", \"tell\", \"why\", \"left\", \"ever\", \"saw\", \"look\", \"seemed\", \"against\", \"always\", \"going\", \"few\", \"got\", \"something\", \"between\", \"sir\", \"thing\", \"also\", \"because\", \"yes\", \"each\", \"oh\", \"quite\", \"both\", \"almost\", \"soon\", \"however\", \"having\", \"t\", \"whom\", \"does\", \"among\", \"perhaps\", \"until\", \"began\", \"rather\", \"herself\", \"next\", \"since\", \"anything\", \"myself\", \"nor\", \"indeed\", \"whose\", \"thus\", \"along\", \"others\", \"till\", \"near\", \"certain\", \"behind\", \"during\", \"alone\", \"already\", \"above\", \"often\", \"really\", \"within\", \"used\", \"use\", \"itself\", \"whether\", \"around\", \"second\", \"across\", \"either\", \"towards\", \"became\", \"therefore\", \"able\", \"sometimes\", \"later\", \"else\", \"seems\", \"ten\", \"thousand\", \"don\", \"certainly\", \"ought\", \"beyond\", \"toward\", \"nearly\", \"although\", \"past\", \"seem\", \"mr\", \"mrs\", \"dr\", \"thou\", \"except\", \"none\", \"probably\", \"neither\", \"saying\", \"ago\", \"ye\", \"yourself\", \"getting\", \"below\", \"quickly\", \"beside\", \"besides\", \"especially\", \"thy\", \"thee\", \"d\", \"unless\", \"three\", \"four\", \"five\", \"six\", \"seven\", \"eight\", \"nine\", \"hundred\", \"million\", \"billion\", \"third\", \"fourth\", \"fifth\", \"sixth\", \"seventh\", \"eighth\", \"ninth\", \"tenth\", \"amp\", \"m\", \"re\", \"u\", \"via\", \"ve\", \"ll\", \"th\", \"lol\", \"pm\", \"things\", \"w\", \"didn\", \"doing\", \"doesn\", \"r\", \"gt\", \"n\", \"st\", \"lot\", \"y\", \"im\", \"k\", \"isn\", \"ur\", \"hey\", \"yeah\", \"using\", \"vs\", \"dont\", \"ok\", \"v\", \"goes\", \"gone\", \"lmao\", \"happen\", \"wasn\", \"gotta\", \"nd\", \"okay\", \"aren\", \"wouldn\", \"couldn\", \"cannot\", \"omg\", \"non\", \"inside\", \"iv\", \"de\", \"anymore\", \"happening\", \"including\", \"shouldn\", \"yours\",]\n",
    "print(len(function_words_single))"
   ]
  },
  {
   "cell_type": "code",
   "execution_count": 39,
   "metadata": {},
   "outputs": [],
   "source": [
    "phrases = None\n",
    "\n",
    "#This is a placeholder for spacy's tagger\n",
    "nlp = spacy.load(\"en_core_web_sm\")\n",
    "nlp.max_length = 9999999999999\n",
    "\n",
    "def clean(line, tag = False):\n",
    "\n",
    "        #Remove links, hashtags, at-mentions, mark-up, and \"RT\"\n",
    "        line = re.sub(r\"http\\S+\", \"\", line)\n",
    "        line = re.sub(r\"@\\S+\", \"\", line)\n",
    "        line = re.sub(r\"#\\S+\", \"\", line)\n",
    "        line = re.sub(\"<[^>]*>\", \"\", line)\n",
    "        line = line.replace(\" RT\", \"\").replace(\"RT \", \"\")\n",
    "\n",
    "        #Remove punctuation and extra spaces\n",
    "        line = ct.pipe(line, \n",
    "                preprocessing.strip_tags, \n",
    "                preprocessing.strip_punctuation, \n",
    "                preprocessing.strip_numeric, \n",
    "                preprocessing.strip_non_alphanum, \n",
    "                preprocessing.strip_multiple_whitespaces)\n",
    "\n",
    "        #Strip and lowercase\n",
    "        line = line.lower().strip().lstrip().split()\n",
    "\n",
    "        #If we've used PMI to find phrases, get those phrases now\n",
    "        if phrases != None:\n",
    "            line = list(phrases[line])\n",
    "\n",
    "        #If we want Part-of-Speech tagging, do that now\n",
    "        if tag == True:\n",
    "            line = nlp(\" \".join(line))\n",
    "            line = [w.text + \"_\" + w.pos_ for w in line]\n",
    "\n",
    "        return line\n",
    "\n",
    "\n",
    "def read_clean(df, tag = False, column = \"Text\"):\n",
    "    return [clean(str(x), tag = tag) for x in df.loc[:,column].values]\n",
    "\n",
    "def get_min_count(df):\n",
    "    if len(df) < 10000:\n",
    "        min = 5\n",
    "    else:\n",
    "        min = int(len(df)/10000)\n",
    "    return max(min, 5)\n",
    "\n",
    "def train_lda(df, n_topics, min_count = None):\n",
    "\n",
    "    #If no min_count, find one\n",
    "    if min_count == None:\n",
    "        min_count = get_min_count(df)\n",
    "\n",
    "    #Get gensim dictionary, remove function words and infrequent words\n",
    "    common_dictionary = Dictionary(read_clean(df))\n",
    "    common_dictionary.filter_extremes(no_below = min_count)\n",
    "    remove_ids = [common_dictionary.token2id[x] for x in function_words_single if x in common_dictionary.token2id]\n",
    "\n",
    "    #Filter out words we don't want\n",
    "    common_dictionary.filter_tokens(bad_ids = remove_ids)\n",
    "    common_corpus = [common_dictionary.doc2bow(text) for text in read_clean(df)]\n",
    "\n",
    "    #Train LDA\n",
    "    lda = LdaModel(common_corpus, num_topics = n_topics)\n",
    "\n",
    "    lda_dictionary = common_dictionary\n",
    "    print(\"Done learning LDA model\")\n",
    "    \n",
    "    return lda, lda_dictionary\n",
    "\n",
    "        \n",
    "def use_lda(df, labels):\n",
    "\n",
    "    #Get the gensim representation\n",
    "    corpus = [lda_dictionary.doc2bow(text) for text in read_clean(df)]\n",
    "\n",
    "    #Get labels\n",
    "    y = df.loc[:,labels].values\n",
    "\n",
    "    #For storing topic results\n",
    "    holder = []\n",
    "\n",
    "    #Process each sample\n",
    "    for i in range(len(corpus)):\n",
    "        vector = lda_model[corpus[i]]\n",
    "        label = y[i]\n",
    "        main = 0.0\n",
    "        main_index = 0\n",
    "\n",
    "        #Find most relevant topic\n",
    "        for cluster, val in vector:\n",
    "            if val > main:\n",
    "                main_index = cluster\n",
    "                main = val\n",
    "\n",
    "        holder.append([i, label, main_index])\n",
    "\n",
    "    topic_df = pd.DataFrame(holder, columns = [\"Index\", \"Class\", \"Topic\"])\n",
    "    return topic_df"
   ]
  },
  {
   "cell_type": "markdown",
   "metadata": {},
   "source": [
    "### Load pre-existing topic model or run LDA \n",
    "- the model has 20 topics\n",
    "- the vocabularity has over 22k words"
   ]
  },
  {
   "cell_type": "code",
   "execution_count": 183,
   "metadata": {},
   "outputs": [
    {
     "name": "stdout",
     "output_type": "stream",
     "text": [
      "LdaModel(num_terms=22058, num_topics=20, decay=0.5, chunksize=2000)\n",
      "Dictionary(22058 unique tokens: ['accept', 'amazing', 'america', 'bank', 'bathroom']...)\n"
     ]
    }
   ],
   "source": [
    "if os.path.isfile('hotels.lda_model.pickle') and os.path.isfile('hotels.lda_dictionary.pickle'):\n",
    "    with open('hotels.lda_model.pickle', 'rb') as f:\n",
    "        lda_model = pickle.load(f)\n",
    "    with open('hotels.lda_dictionary.pickle', 'rb') as f:\n",
    "        lda_dictionary = pickle.load(f)\n",
    "else:\n",
    "    lda_model, lda_dictionary = train_lda(df, 20, min_count = None)\n",
    "    with open('hotels.lda_model.pickle', 'wb') as f:\n",
    "        pickle.dump(lda_model,f)\n",
    "    with open('hotels.lda_dictionary.pickle', 'wb') as f:\n",
    "        pickle.dump(lda_dictionary,f)\n",
    "        \n",
    "print(lda_model)\n",
    "print(lda_dictionary)"
   ]
  },
  {
   "cell_type": "markdown",
   "metadata": {},
   "source": [
    "### Top 20 words associated to each topic\n",
    "- we can define a few high-level subjects looking at the words: 'Families' for topic 0, 'Room' for topics 3 & 6 & 16..."
   ]
  },
  {
   "cell_type": "code",
   "execution_count": 184,
   "metadata": {},
   "outputs": [
    {
     "name": "stdout",
     "output_type": "stream",
     "text": [
      "Keywords for topic_id:  0  ==> ['pool', 'resort', 'kids', 'great', 'area', 'nice', 'spa', 'family', 'children', 'pools', 'loved', 'food', 'enjoyed', 'vacation', 'well', 'year', 'water', 'fun', 'hot', 'beautiful']\n",
      "Keywords for topic_id:  1  ==> ['lake', 'tube', 'girlfriend', 'museums', 'van', 'gate', 'al', 'mom', 'mountains', 'breathtaking', 'santa', 'helpfull', 'trade', 'partial', 'jungle', 'sept', 'win', 'dad', 'discounts', 'piano']\n",
      "Keywords for topic_id:  2  ==> ['great', 'good', 'place', 'like', 'people', 'nice', 'rooms', 'want', 'clean', 'strip', 'reviews', 'stayed', 'night', 'big', 'pretty', 'best', 'bit', 'everything', 'bad', 'right']\n",
      "Keywords for topic_id:  3  ==> ['suite', 'bedroom', 'kitchen', 'living', 'suites', 'area', 'full', 'sheraton', 'apartment', 'large', 'unit', 'stayed', 'family', 'sofa', 'dining', 'building', 'separate', 'microwave', 'dryer', 'balcony']\n",
      "Keywords for topic_id:  4  ==> ['great', 'wonderful', 'beautiful', 'service', 'best', 'amazing', 'like', 'trip', 'stayed', 'perfect', 'experience', 'loved', 'place', 'friendly', 'everything', 'feel', 'husband', 'well', 'lovely', 'recommend']\n",
      "Keywords for topic_id:  5  ==> ['free', 'internet', 'coffee', 'water', 'lobby', 'good', 'access', 'nice', 'center', 'wifi', 'business', 'service', 'fridge', 'bar', 'small', 'available', 'charge', 'like', 'desk', 'wireless']\n",
      "Keywords for topic_id:  6  ==> ['bed', 'like', 'bathroom', 'dirty', 'smell', 'smoking', 'shower', 'place', 'carpet', 'stayed', 'towels', 'water', 'clean', 'looked', 'smoke', 'bad', 'toilet', 'sheets', 'better', 'canal']\n",
      "Keywords for topic_id:  7  ==> ['walk', 'airport', 'bus', 'casino', 'minutes', 'shuttle', 'street', 'right', 'san', 'area', 'walking', 'car', 'taxi', 'great', 'park', 'easy', 'free', 'restaurants', 'downtown', 'location']\n",
      "Keywords for topic_id:  8  ==> ['son', 'ritz', 'o', 'sushi', 'tropical', 'waiters', 'dog', 'fashion', 'palms', 'personnel', 'shocked', 'waves', 'dogs', 'pet', 'ha', 'en', 'camera', 'animal', 'ignored', 'status']\n",
      "Keywords for topic_id:  9  ==> ['night', 'parking', 'price', 'view', 'nice', 'rooms', 'per', 'stayed', 'good', 'rate', 'hotels', 'paid', 'free', 'booked', 'pay', 'check', 'great', 'breakfast', 'location', 'park']\n",
      "Keywords for topic_id: 10  ==> ['service', 'rooms', 'hotels', 'reviews', 'property', 'business', 'well', 'star', 'experience', 'quality', 'hilton', 'stayed', 'club', 'guests', 'new', 'high', 'level', 'concierge', 'better', 'years']\n",
      "Keywords for topic_id: 11  ==> ['night', 'floor', 'noise', 'rooms', 'air', 'door', 'hear', 'elevator', 'small', 'open', 'street', 'window', 'sleep', 'outside', 'like', 'building', 'secrets', 'windows', 'people', 'loud']\n",
      "Keywords for topic_id: 12  ==> ['food', 'bar', 'restaurant', 'service', 'buffet', 'good', 'dinner', 'drinks', 'ate', 'la', 'lunch', 'breakfast', 'excellent', 'restaurants', 'drink', 'eat', 'meal', 'menu', 'table', 'order']\n",
      "Keywords for topic_id: 13  ==> ['told', 'booked', 'card', 'manager', 'asked', 'reservation', 'reception', 'credit', 'booking', 'days', 'rooms', 'paid', 'called', 'phone', 'pay', 'call', 'charge', 'money', 'charged', 'spoke']\n",
      "Keywords for topic_id: 14  ==> ['desk', 'front', 'check', 'arrived', 'told', 'asked', 'night', 'called', 'minutes', 'morning', 'checked', 'service', 'took', 'ready', 'call', 'early', 'wait', 'late', 'luggage', 'hour']\n",
      "Keywords for topic_id: 15  ==> ['breakfast', 'coffee', 'fruit', 'fresh', 'eggs', 'tea', 'hot', 'juice', 'b', 'cheese', 'morning', 'included', 'bread', 'continental', 'pastries', 'cereal', 'cold', 'etc', 'toast', 'massage']\n",
      "Keywords for topic_id: 16  ==> ['bed', 'bathroom', 'shower', 'tv', 'nice', 'large', 'small', 'comfortable', 'beds', 'size', 'king', 'flat', 'screen', 'tub', 'bath', 'area', 'double', 'space', 'pillows', 'desk']\n",
      "Keywords for topic_id: 17  ==> ['beach', 'ocean', 'view', 'resort', 'bay', 'water', 'sea', 'beautiful', 'island', 'restaurants', 'cruise', 'river', 'marina', 'balcony', 'boat', 'side', 'sand', 'italian', 'coast', 'slide']\n",
      "Keywords for topic_id: 18  ==> ['location', 'good', 'great', 'clean', 'breakfast', 'rooms', 'helpful', 'stayed', 'small', 'friendly', 'walk', 'comfortable', 'nice', 'well', 'excellent', 'area', 'nights', 'restaurants', 'recommend', 'city']\n",
      "Keywords for topic_id: 19  ==> ['e', 'l', 'palace', 'c', 'le', 'con', 'desert', 'mail', 'james', 'g', 'vista', 'pro', 'target', 'bella', 'di', 'restocked', 'warn', 'un', 'wallet', 'apologize']\n"
     ]
    }
   ],
   "source": [
    "for topic_id in range(20):\n",
    "    topic = lda_model.get_topic_terms(topic_id, topn = 20)\n",
    "    topic = [lda_dictionary[word] for word, prob in topic]\n",
    "    print(f'Keywords for topic_id: {topic_id:{2}}  ==> {topic}')"
   ]
  },
  {
   "cell_type": "markdown",
   "metadata": {},
   "source": [
    "### Assign each review to the most reprsentative topic"
   ]
  },
  {
   "cell_type": "code",
   "execution_count": 185,
   "metadata": {},
   "outputs": [
    {
     "name": "stdout",
     "output_type": "stream",
     "text": [
      "           Index Class  Topic\n",
      "0              0   5.0     13\n",
      "1              1   5.0     16\n",
      "2              2   3.0     13\n",
      "3              3   5.0     18\n",
      "4              4   4.0      6\n",
      "...          ...   ...    ...\n",
      "1534555  1534555   5.0      7\n",
      "1534556  1534556   5.0      4\n",
      "1534557  1534557   5.0      0\n",
      "1534558  1534558   5.0      4\n",
      "1534559  1534559   5.0     18\n",
      "\n",
      "[1534560 rows x 3 columns]\n"
     ]
    }
   ],
   "source": [
    "if os.path.isfile('hotels.lda_topic.pickle'):\n",
    "    with open('hotels.lda_topic.pickle', 'rb') as f:\n",
    "        topic_df = pickle.load(f)\n",
    "\n",
    "else:\n",
    "    topic_df = use_lda(df, \"Rating\")\n",
    "    with open('hotels.lda_topic.pickle', 'wb') as f:\n",
    "        pickle.dump(topic_df,f)\n",
    "\n",
    "print(topic_df)"
   ]
  },
  {
   "cell_type": "code",
   "execution_count": 186,
   "metadata": {},
   "outputs": [
    {
     "name": "stdout",
     "output_type": "stream",
     "text": [
      "Index     int64\n",
      "Class    object\n",
      "Topic     int64\n",
      "dtype: object\n"
     ]
    }
   ],
   "source": [
    "print(topic_df.dtypes)"
   ]
  },
  {
   "cell_type": "code",
   "execution_count": 187,
   "metadata": {},
   "outputs": [],
   "source": [
    "topic_df.Class = topic_df.Class.astype('float')\n",
    "topic_df.Class = topic_df.Class.astype('int')"
   ]
  },
  {
   "cell_type": "code",
   "execution_count": 188,
   "metadata": {},
   "outputs": [
    {
     "data": {
      "text/plain": [
       "{0, 1, 2, 3, 4, 5}"
      ]
     },
     "execution_count": 188,
     "metadata": {},
     "output_type": "execute_result"
    }
   ],
   "source": [
    "set(topic_df.Class)"
   ]
  },
  {
   "cell_type": "markdown",
   "metadata": {},
   "source": [
    "### Representation of each topic by the reviews"
   ]
  },
  {
   "cell_type": "code",
   "execution_count": 189,
   "metadata": {},
   "outputs": [
    {
     "data": {
      "image/png": "[encoded data removed]",
      "text/plain": [
       "<Figure size 432x288 with 1 Axes>"
      ]
     },
     "metadata": {
      "needs_background": "light"
     },
     "output_type": "display_data"
    }
   ],
   "source": [
    "import seaborn as sns\n",
    "import matplotlib.pyplot as plt\n",
    "\n",
    "sns.histplot(data = topic_df, x = \"Topic\", discrete=True)\n",
    "plt.title('Number of reviews per LDA topics')\n",
    "plt.show()"
   ]
  },
  {
   "cell_type": "markdown",
   "metadata": {},
   "source": [
    "### Let's regroup a few topics and focus on key criteria\n",
    "- We remove 50% of the topics which are not focused / clear enough\n",
    "- We gather the rest into 6 main criteria: Location, Rooms, Food & Breakfast, Families, Service, Sleep"
   ]
  },
  {
   "cell_type": "code",
   "execution_count": 190,
   "metadata": {},
   "outputs": [
    {
     "name": "stdout",
     "output_type": "stream",
     "text": [
      "           Index  Class     Topic\n",
      "1              1      5     Rooms\n",
      "3              3      5  Location\n",
      "4              4      4     Rooms\n",
      "5              5      3  Location\n",
      "9              9      5  Location\n",
      "...          ...    ...       ...\n",
      "1534550  1534550      4  Location\n",
      "1534551  1534551      5  Location\n",
      "1534555  1534555      5  Location\n",
      "1534557  1534557      5  Families\n",
      "1534559  1534559      5  Location\n",
      "\n",
      "[900375 rows x 3 columns]\n"
     ]
    }
   ],
   "source": [
    "topic_df = topic_df.loc[topic_df[\"Topic\"].isin([7, 18, 0, 12, 15, 11, 5, 3, 6, 16])]\n",
    "topic_df.loc[:,\"Topic\"] = topic_df.loc[:,\"Topic\"].replace({7:\"Location\", 18:\"Location\", 0:\"Families\", 12:\"Food\", 15:\"Food\", 11:\"Sleep\", 5:\"Service\", 3:\"Rooms\", 6:\"Rooms\", 16:\"Rooms\"})   # 10:\"Service\", 14:\"Service\"\n",
    "print(topic_df)"
   ]
  },
  {
   "cell_type": "code",
   "execution_count": 191,
   "metadata": {},
   "outputs": [
    {
     "data": {
      "image/png": "[encoded data removed]",
      "text/plain": [
       "<Figure size 432x288 with 1 Axes>"
      ]
     },
     "metadata": {
      "needs_background": "light"
     },
     "output_type": "display_data"
    }
   ],
   "source": [
    "sns.histplot(data = topic_df, x = \"Topic\")\n",
    "plt.show()"
   ]
  },
  {
   "cell_type": "markdown",
   "metadata": {},
   "source": [
    "## Which criteria is the most important for the rating ?"
   ]
  },
  {
   "cell_type": "code",
   "execution_count": 192,
   "metadata": {},
   "outputs": [
    {
     "name": "stdout",
     "output_type": "stream",
     "text": [
      "        Sleep  Food    Rooms  Location  Service  Families\n",
      "Rating                                                   \n",
      "0           2     1      NaN       NaN      NaN       NaN\n",
      "1       14290  1026  33064.0    3639.0   2113.0     413.0\n",
      "2       22058  1628  21493.0   13659.0   5490.0    1136.0\n",
      "3       29415  3323  17122.0   68838.0  11830.0    3333.0\n",
      "4       24881  5872  17635.0  248081.0  16851.0   12307.0\n",
      "5        9051  5629  17086.0  259237.0  10611.0   19261.0\n"
     ]
    }
   ],
   "source": [
    "rows = []\n",
    "for rating, rating_df in topic_df.groupby(\"Class\"):\n",
    "    freq = ct.frequencies(rating_df.loc[:,\"Topic\"])\n",
    "    freq[\"Rating\"] = rating\n",
    "    rows.append(freq)\n",
    "    \n",
    "freq_df = pd.DataFrame.from_dict(rows)\n",
    "freq_df.set_index(\"Rating\", drop = True, inplace = True) \n",
    "print(freq_df)"
   ]
  },
  {
   "cell_type": "code",
   "execution_count": 193,
   "metadata": {},
   "outputs": [
    {
     "data": {
      "text/plain": [
       "<AxesSubplot:xlabel='Rating'>"
      ]
     },
     "execution_count": 193,
     "metadata": {},
     "output_type": "execute_result"
    },
    {
     "data": {
      "image/png": "[encoded data removed]",
      "text/plain": [
       "<Figure size 432x288 with 2 Axes>"
      ]
     },
     "metadata": {
      "needs_background": "light"
     },
     "output_type": "display_data"
    }
   ],
   "source": [
    "sns.heatmap(freq_df.T, vmax = 25000, cbar = True, cmap = \"Greens\")"
   ]
  },
  {
   "cell_type": "markdown",
   "metadata": {},
   "source": [
    "### Conclusion\n",
    "- The quality of the room / accomodation is the most important driver for bad reviews => Bad hotels are defined by their rooms.\n",
    "- the location of the hotel is the most important driver for good reviews => Great hotels are defined by their location"
   ]
  },
  {
   "cell_type": "code",
   "execution_count": null,
   "metadata": {},
   "outputs": [],
   "source": []
  },
  {
   "cell_type": "code",
   "execution_count": null,
   "metadata": {},
   "outputs": [],
   "source": []
  },
  {
   "cell_type": "code",
   "execution_count": null,
   "metadata": {},
   "outputs": [],
   "source": []
  },
  {
   "cell_type": "code",
   "execution_count": null,
   "metadata": {},
   "outputs": [],
   "source": []
  }
 ],
 "metadata": {
  "kernelspec": {
   "display_name": "nlp",
   "language": "python",
   "name": "nlp"
  },
  "language_info": {
   "codemirror_mode": {
    "name": "ipython",
    "version": 3
   },
   "file_extension": ".py",
   "mimetype": "text/x-python",
   "name": "python",
   "nbconvert_exporter": "python",
   "pygments_lexer": "ipython3",
   "version": "3.7.0"
  }
 },
 "nbformat": 4,
 "nbformat_minor": 4
}
